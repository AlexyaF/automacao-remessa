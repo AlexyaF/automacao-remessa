{
 "cells": [
  {
   "cell_type": "code",
   "execution_count": 15,
   "metadata": {},
   "outputs": [
    {
     "data": {
      "text/plain": [
       "1"
      ]
     },
     "execution_count": 15,
     "metadata": {},
     "output_type": "execute_result"
    }
   ],
   "source": [
    "from datetime import datetime, timedelta\n",
    "hoje = datetime.today()\n",
    "ano_atual = datetime.now().year\n",
    "mes_atual = datetime.now().month\n",
    "mes_passado= mes_atual - 1\n",
    "data_fim_ciclo1 = datetime(ano_atual,mes_atual,6)\n",
    "data_fim_ciclo2= datetime(ano_atual,mes_atual,21)\n",
    "\n",
    "if data_fim_ciclo1 <= hoje <= (data_fim_ciclo1 + timedelta(days=5)):\n",
    "    ciclo = 1\n",
    "elif data_fim_ciclo2 <= hoje <= (data_fim_ciclo2 + timedelta(days=5)):\n",
    "    ciclo = 2\n",
    "else:\n",
    "   ciclo = int(input(\"Ciclo nao identificado, qual ciclo deseja processar: \"))\n",
    "\n",
    "ciclo"
   ]
  }
 ],
 "metadata": {
  "kernelspec": {
   "display_name": "Python 3",
   "language": "python",
   "name": "python3"
  },
  "language_info": {
   "codemirror_mode": {
    "name": "ipython",
    "version": 3
   },
   "file_extension": ".py",
   "mimetype": "text/x-python",
   "name": "python",
   "nbconvert_exporter": "python",
   "pygments_lexer": "ipython3",
   "version": "3.12.6"
  }
 },
 "nbformat": 4,
 "nbformat_minor": 2
}
